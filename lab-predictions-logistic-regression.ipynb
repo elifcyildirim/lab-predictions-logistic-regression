{
 "cells": [
  {
   "cell_type": "code",
   "execution_count": 1094,
   "id": "ed5619e5",
   "metadata": {},
   "outputs": [],
   "source": [
    "#Lab: Making predictions with logistic regression"
   ]
  },
  {
   "cell_type": "code",
   "execution_count": 1095,
   "id": "ac592c32",
   "metadata": {},
   "outputs": [],
   "source": [
    "# In this lab, you will be using the Sakila database of movie rentals.\n",
    "\n",
    "# In order to optimize our inventory, we would like to know which films will be rented next month and\n",
    "    # we are asked to create a model to predict it.\n",
    "\n",
    "# Instructions\n",
    "# Q1 Create a query or queries to extract the information you think may be relevant for building the prediction model.\n",
    "# It should include some film features and some rental features. Use the data from 2005.\n",
    "# Q2 Create a query to get the list of films and a boolean indicating if it was rented last month (MAY 2005).\n",
    "    #This would be our target variable.\n",
    "# Q3 Read the data into a Pandas dataframe.\n",
    "# Q4 Analyze extracted features and transform them. You may need to encode some categorical variables, or \n",
    "    #scale numerical variables.\n",
    "# Q5 Create a logistic regression model to predict this variable from the cleaned data.\n",
    "# Q6 Evaluate the results."
   ]
  },
  {
   "cell_type": "markdown",
   "id": "8743e000",
   "metadata": {},
   "source": [
    "# Import modules, get pwd and data"
   ]
  },
  {
   "cell_type": "code",
   "execution_count": 1096,
   "id": "657c6950",
   "metadata": {},
   "outputs": [
    {
     "name": "stdout",
     "output_type": "stream",
     "text": [
      "········\n"
     ]
    }
   ],
   "source": [
    "# prep: import modules and get pwd\n",
    "import pymysql\n",
    "from sqlalchemy import create_engine\n",
    "import pandas as pd\n",
    "import numpy as np\n",
    "import matplotlib.pyplot as plt\n",
    "import seaborn as sns\n",
    "%matplotlib inline\n",
    "import getpass  # To get the password without showing the input\n",
    "password = getpass.getpass()"
   ]
  },
  {
   "cell_type": "code",
   "execution_count": 1097,
   "id": "86a5bd36",
   "metadata": {},
   "outputs": [
    {
     "data": {
      "text/html": [
       "<div>\n",
       "<style scoped>\n",
       "    .dataframe tbody tr th:only-of-type {\n",
       "        vertical-align: middle;\n",
       "    }\n",
       "\n",
       "    .dataframe tbody tr th {\n",
       "        vertical-align: top;\n",
       "    }\n",
       "\n",
       "    .dataframe thead th {\n",
       "        text-align: right;\n",
       "    }\n",
       "</style>\n",
       "<table border=\"1\" class=\"dataframe\">\n",
       "  <thead>\n",
       "    <tr style=\"text-align: right;\">\n",
       "      <th></th>\n",
       "      <th>film_id</th>\n",
       "      <th>title</th>\n",
       "      <th>release_year</th>\n",
       "      <th>language_id</th>\n",
       "      <th>original_language_id</th>\n",
       "      <th>rental_rate</th>\n",
       "      <th>length</th>\n",
       "      <th>rating</th>\n",
       "      <th>rental_duration</th>\n",
       "      <th>replacement_cost</th>\n",
       "      <th>language</th>\n",
       "      <th>category</th>\n",
       "      <th>rental_date</th>\n",
       "      <th>amount</th>\n",
       "    </tr>\n",
       "  </thead>\n",
       "  <tbody>\n",
       "    <tr>\n",
       "      <th>0</th>\n",
       "      <td>1</td>\n",
       "      <td>ACADEMY DINOSAUR</td>\n",
       "      <td>2006</td>\n",
       "      <td>1</td>\n",
       "      <td>None</td>\n",
       "      <td>0.99</td>\n",
       "      <td>86</td>\n",
       "      <td>PG</td>\n",
       "      <td>6</td>\n",
       "      <td>20.99</td>\n",
       "      <td>English</td>\n",
       "      <td>Documentary</td>\n",
       "      <td>2005-07-08 19:03:15</td>\n",
       "      <td>0.99</td>\n",
       "    </tr>\n",
       "    <tr>\n",
       "      <th>1</th>\n",
       "      <td>1</td>\n",
       "      <td>ACADEMY DINOSAUR</td>\n",
       "      <td>2006</td>\n",
       "      <td>1</td>\n",
       "      <td>None</td>\n",
       "      <td>0.99</td>\n",
       "      <td>86</td>\n",
       "      <td>PG</td>\n",
       "      <td>6</td>\n",
       "      <td>20.99</td>\n",
       "      <td>English</td>\n",
       "      <td>Documentary</td>\n",
       "      <td>2005-08-02 20:13:10</td>\n",
       "      <td>3.99</td>\n",
       "    </tr>\n",
       "    <tr>\n",
       "      <th>2</th>\n",
       "      <td>1</td>\n",
       "      <td>ACADEMY DINOSAUR</td>\n",
       "      <td>2006</td>\n",
       "      <td>1</td>\n",
       "      <td>None</td>\n",
       "      <td>0.99</td>\n",
       "      <td>86</td>\n",
       "      <td>PG</td>\n",
       "      <td>6</td>\n",
       "      <td>20.99</td>\n",
       "      <td>English</td>\n",
       "      <td>Documentary</td>\n",
       "      <td>2005-08-21 21:27:43</td>\n",
       "      <td>3.99</td>\n",
       "    </tr>\n",
       "    <tr>\n",
       "      <th>3</th>\n",
       "      <td>1</td>\n",
       "      <td>ACADEMY DINOSAUR</td>\n",
       "      <td>2006</td>\n",
       "      <td>1</td>\n",
       "      <td>None</td>\n",
       "      <td>0.99</td>\n",
       "      <td>86</td>\n",
       "      <td>PG</td>\n",
       "      <td>6</td>\n",
       "      <td>20.99</td>\n",
       "      <td>English</td>\n",
       "      <td>Documentary</td>\n",
       "      <td>2022-09-19 17:58:11</td>\n",
       "      <td>NaN</td>\n",
       "    </tr>\n",
       "    <tr>\n",
       "      <th>4</th>\n",
       "      <td>1</td>\n",
       "      <td>ACADEMY DINOSAUR</td>\n",
       "      <td>2006</td>\n",
       "      <td>1</td>\n",
       "      <td>None</td>\n",
       "      <td>0.99</td>\n",
       "      <td>86</td>\n",
       "      <td>PG</td>\n",
       "      <td>6</td>\n",
       "      <td>20.99</td>\n",
       "      <td>English</td>\n",
       "      <td>Documentary</td>\n",
       "      <td>2005-05-30 20:21:07</td>\n",
       "      <td>1.99</td>\n",
       "    </tr>\n",
       "  </tbody>\n",
       "</table>\n",
       "</div>"
      ],
      "text/plain": [
       "   film_id             title  release_year  language_id original_language_id  \\\n",
       "0        1  ACADEMY DINOSAUR          2006            1                 None   \n",
       "1        1  ACADEMY DINOSAUR          2006            1                 None   \n",
       "2        1  ACADEMY DINOSAUR          2006            1                 None   \n",
       "3        1  ACADEMY DINOSAUR          2006            1                 None   \n",
       "4        1  ACADEMY DINOSAUR          2006            1                 None   \n",
       "\n",
       "   rental_rate  length rating  rental_duration  replacement_cost language  \\\n",
       "0         0.99      86     PG                6             20.99  English   \n",
       "1         0.99      86     PG                6             20.99  English   \n",
       "2         0.99      86     PG                6             20.99  English   \n",
       "3         0.99      86     PG                6             20.99  English   \n",
       "4         0.99      86     PG                6             20.99  English   \n",
       "\n",
       "      category         rental_date  amount  \n",
       "0  Documentary 2005-07-08 19:03:15    0.99  \n",
       "1  Documentary 2005-08-02 20:13:10    3.99  \n",
       "2  Documentary 2005-08-21 21:27:43    3.99  \n",
       "3  Documentary 2022-09-19 17:58:11     NaN  \n",
       "4  Documentary 2005-05-30 20:21:07    1.99  "
      ]
     },
     "execution_count": 1097,
     "metadata": {},
     "output_type": "execute_result"
    }
   ],
   "source": [
    "# get the data\n",
    "connection_string = 'mysql+pymysql://root:' + password + '@localhost/sakila'\n",
    "engine = create_engine(connection_string)\n",
    "query = '''select f.film_id, f.title, f.release_year, f.language_id,\n",
    "       f.original_language_id, f.rental_rate, f.length, f.rating,f.rental_duration,\n",
    "       f.replacement_cost,\n",
    "       l.name as 'language',\n",
    "       c.name as 'category', r.rental_date, p.amount from film f\n",
    "left join inventory i on f.film_id=i.film_id\n",
    "left join film_category fc on f.film_id=fc.film_id\n",
    "left join category c on c.category_id=fc.category_id\n",
    "left join language l on l.language_id=f.language_id\n",
    "left join rental r on r.inventory_id=i.inventory_id\n",
    "left join payment p on p.rental_id=r.rental_id\n",
    "ORDER BY f.film_id ASC;'''\n",
    "\n",
    "sakila = pd.read_sql_query(query, engine)\n",
    "sakila.head()"
   ]
  },
  {
   "cell_type": "code",
   "execution_count": 1098,
   "id": "b51c23a2",
   "metadata": {},
   "outputs": [
    {
     "data": {
      "text/plain": [
       "(958, 2)"
      ]
     },
     "metadata": {},
     "output_type": "display_data"
    },
    {
     "data": {
      "text/html": [
       "<div>\n",
       "<style scoped>\n",
       "    .dataframe tbody tr th:only-of-type {\n",
       "        vertical-align: middle;\n",
       "    }\n",
       "\n",
       "    .dataframe tbody tr th {\n",
       "        vertical-align: top;\n",
       "    }\n",
       "\n",
       "    .dataframe thead th {\n",
       "        text-align: right;\n",
       "    }\n",
       "</style>\n",
       "<table border=\"1\" class=\"dataframe\">\n",
       "  <thead>\n",
       "    <tr style=\"text-align: right;\">\n",
       "      <th></th>\n",
       "      <th>film_id</th>\n",
       "      <th>tot_numb_copies</th>\n",
       "    </tr>\n",
       "  </thead>\n",
       "  <tbody>\n",
       "    <tr>\n",
       "      <th>953</th>\n",
       "      <td>996</td>\n",
       "      <td>2</td>\n",
       "    </tr>\n",
       "    <tr>\n",
       "      <th>954</th>\n",
       "      <td>997</td>\n",
       "      <td>2</td>\n",
       "    </tr>\n",
       "    <tr>\n",
       "      <th>955</th>\n",
       "      <td>998</td>\n",
       "      <td>2</td>\n",
       "    </tr>\n",
       "    <tr>\n",
       "      <th>956</th>\n",
       "      <td>999</td>\n",
       "      <td>5</td>\n",
       "    </tr>\n",
       "    <tr>\n",
       "      <th>957</th>\n",
       "      <td>1000</td>\n",
       "      <td>8</td>\n",
       "    </tr>\n",
       "  </tbody>\n",
       "</table>\n",
       "</div>"
      ],
      "text/plain": [
       "     film_id  tot_numb_copies\n",
       "953      996                2\n",
       "954      997                2\n",
       "955      998                2\n",
       "956      999                5\n",
       "957     1000                8"
      ]
     },
     "metadata": {},
     "output_type": "display_data"
    }
   ],
   "source": [
    "query1 = '''SELECT film_id, COUNT(film_id) AS tot_numb_copies from inventory\n",
    "GROUP BY film_id\n",
    "ORDER BY film_id ASC;'''\n",
    "\n",
    "temp1= pd.read_sql_query(query1, engine)\n",
    "display(temp1.shape)\n",
    "display(temp1.tail())"
   ]
  },
  {
   "cell_type": "code",
   "execution_count": 1099,
   "id": "59cd6e00",
   "metadata": {},
   "outputs": [
    {
     "data": {
      "text/plain": [
       "(686, 2)"
      ]
     },
     "execution_count": 1099,
     "metadata": {},
     "output_type": "execute_result"
    }
   ],
   "source": [
    "query2 ='''SELECT f.film_id, COUNT(f.film_id) AS num_of_rental_May from film f\n",
    "LEFT JOIN inventory i ON f.film_id=i.film_id\n",
    "LEFT JOIN rental r ON r.inventory_id=i.inventory_id\n",
    "WHERE r.rental_date BETWEEN '2005-05-01 00:00:00' AND '2005-06-01 00:00:00'\n",
    "GROUP BY film_id\n",
    "ORDER BY f.film_id ASC;'''\n",
    "\n",
    "temp2= pd.read_sql_query(query2, engine)\n",
    "\n",
    "temp2.shape"
   ]
  },
  {
   "cell_type": "code",
   "execution_count": 1100,
   "id": "ec78becb",
   "metadata": {},
   "outputs": [
    {
     "data": {
      "text/plain": [
       "(958, 3)"
      ]
     },
     "metadata": {},
     "output_type": "display_data"
    },
    {
     "data": {
      "text/html": [
       "<div>\n",
       "<style scoped>\n",
       "    .dataframe tbody tr th:only-of-type {\n",
       "        vertical-align: middle;\n",
       "    }\n",
       "\n",
       "    .dataframe tbody tr th {\n",
       "        vertical-align: top;\n",
       "    }\n",
       "\n",
       "    .dataframe thead th {\n",
       "        text-align: right;\n",
       "    }\n",
       "</style>\n",
       "<table border=\"1\" class=\"dataframe\">\n",
       "  <thead>\n",
       "    <tr style=\"text-align: right;\">\n",
       "      <th></th>\n",
       "      <th>film_id</th>\n",
       "      <th>tot_numb_copies</th>\n",
       "      <th>num_of_rental_May</th>\n",
       "    </tr>\n",
       "  </thead>\n",
       "  <tbody>\n",
       "    <tr>\n",
       "      <th>0</th>\n",
       "      <td>1</td>\n",
       "      <td>8</td>\n",
       "      <td>2.0</td>\n",
       "    </tr>\n",
       "    <tr>\n",
       "      <th>1</th>\n",
       "      <td>2</td>\n",
       "      <td>3</td>\n",
       "      <td>NaN</td>\n",
       "    </tr>\n",
       "    <tr>\n",
       "      <th>2</th>\n",
       "      <td>3</td>\n",
       "      <td>4</td>\n",
       "      <td>1.0</td>\n",
       "    </tr>\n",
       "    <tr>\n",
       "      <th>3</th>\n",
       "      <td>4</td>\n",
       "      <td>7</td>\n",
       "      <td>2.0</td>\n",
       "    </tr>\n",
       "    <tr>\n",
       "      <th>4</th>\n",
       "      <td>5</td>\n",
       "      <td>3</td>\n",
       "      <td>1.0</td>\n",
       "    </tr>\n",
       "  </tbody>\n",
       "</table>\n",
       "</div>"
      ],
      "text/plain": [
       "   film_id  tot_numb_copies  num_of_rental_May\n",
       "0        1                8                2.0\n",
       "1        2                3                NaN\n",
       "2        3                4                1.0\n",
       "3        4                7                2.0\n",
       "4        5                3                1.0"
      ]
     },
     "metadata": {},
     "output_type": "display_data"
    }
   ],
   "source": [
    "temp_merged = pd.merge(left = temp1,\n",
    "                                  right = temp2,\n",
    "                                  how = 'left', \n",
    "                                  left_on = \"film_id\", \n",
    "                                  right_on= \"film_id\")\n",
    "display(temp_merged.shape)\n",
    "display(temp_merged.head())"
   ]
  },
  {
   "cell_type": "markdown",
   "id": "1bc463d0",
   "metadata": {},
   "source": [
    "# Data preparation (cleaning)"
   ]
  },
  {
   "cell_type": "code",
   "execution_count": 1101,
   "id": "3ae7a43a",
   "metadata": {},
   "outputs": [],
   "source": [
    "def check_rental(text):\n",
    "        if '2005-05' in str(text):\n",
    "            return 'rented'\n",
    "        else:\n",
    "            return 'not rented'\n",
    "        \n",
    "sakila[\"rental_status\"] = sakila['rental_date'].apply(lambda x: check_rental(x))"
   ]
  },
  {
   "cell_type": "code",
   "execution_count": 1102,
   "id": "a4f93e1a",
   "metadata": {},
   "outputs": [
    {
     "data": {
      "text/html": [
       "<div>\n",
       "<style scoped>\n",
       "    .dataframe tbody tr th:only-of-type {\n",
       "        vertical-align: middle;\n",
       "    }\n",
       "\n",
       "    .dataframe tbody tr th {\n",
       "        vertical-align: top;\n",
       "    }\n",
       "\n",
       "    .dataframe thead th {\n",
       "        text-align: right;\n",
       "    }\n",
       "</style>\n",
       "<table border=\"1\" class=\"dataframe\">\n",
       "  <thead>\n",
       "    <tr style=\"text-align: right;\">\n",
       "      <th></th>\n",
       "      <th>film_id</th>\n",
       "      <th>title</th>\n",
       "      <th>release_year</th>\n",
       "      <th>language_id</th>\n",
       "      <th>original_language_id</th>\n",
       "      <th>rental_rate</th>\n",
       "      <th>length</th>\n",
       "      <th>rating</th>\n",
       "      <th>rental_duration</th>\n",
       "      <th>replacement_cost</th>\n",
       "      <th>language</th>\n",
       "      <th>category</th>\n",
       "      <th>rental_date</th>\n",
       "      <th>amount</th>\n",
       "      <th>rental_status</th>\n",
       "    </tr>\n",
       "  </thead>\n",
       "  <tbody>\n",
       "    <tr>\n",
       "      <th>0</th>\n",
       "      <td>1</td>\n",
       "      <td>ACADEMY DINOSAUR</td>\n",
       "      <td>2006</td>\n",
       "      <td>1</td>\n",
       "      <td>None</td>\n",
       "      <td>0.99</td>\n",
       "      <td>86</td>\n",
       "      <td>PG</td>\n",
       "      <td>6</td>\n",
       "      <td>20.99</td>\n",
       "      <td>English</td>\n",
       "      <td>Documentary</td>\n",
       "      <td>2005-07-08 19:03:15</td>\n",
       "      <td>0.99</td>\n",
       "      <td>not rented</td>\n",
       "    </tr>\n",
       "    <tr>\n",
       "      <th>1</th>\n",
       "      <td>1</td>\n",
       "      <td>ACADEMY DINOSAUR</td>\n",
       "      <td>2006</td>\n",
       "      <td>1</td>\n",
       "      <td>None</td>\n",
       "      <td>0.99</td>\n",
       "      <td>86</td>\n",
       "      <td>PG</td>\n",
       "      <td>6</td>\n",
       "      <td>20.99</td>\n",
       "      <td>English</td>\n",
       "      <td>Documentary</td>\n",
       "      <td>2005-08-02 20:13:10</td>\n",
       "      <td>3.99</td>\n",
       "      <td>not rented</td>\n",
       "    </tr>\n",
       "    <tr>\n",
       "      <th>2</th>\n",
       "      <td>1</td>\n",
       "      <td>ACADEMY DINOSAUR</td>\n",
       "      <td>2006</td>\n",
       "      <td>1</td>\n",
       "      <td>None</td>\n",
       "      <td>0.99</td>\n",
       "      <td>86</td>\n",
       "      <td>PG</td>\n",
       "      <td>6</td>\n",
       "      <td>20.99</td>\n",
       "      <td>English</td>\n",
       "      <td>Documentary</td>\n",
       "      <td>2005-08-21 21:27:43</td>\n",
       "      <td>3.99</td>\n",
       "      <td>not rented</td>\n",
       "    </tr>\n",
       "    <tr>\n",
       "      <th>3</th>\n",
       "      <td>1</td>\n",
       "      <td>ACADEMY DINOSAUR</td>\n",
       "      <td>2006</td>\n",
       "      <td>1</td>\n",
       "      <td>None</td>\n",
       "      <td>0.99</td>\n",
       "      <td>86</td>\n",
       "      <td>PG</td>\n",
       "      <td>6</td>\n",
       "      <td>20.99</td>\n",
       "      <td>English</td>\n",
       "      <td>Documentary</td>\n",
       "      <td>2022-09-19 17:58:11</td>\n",
       "      <td>NaN</td>\n",
       "      <td>not rented</td>\n",
       "    </tr>\n",
       "    <tr>\n",
       "      <th>4</th>\n",
       "      <td>1</td>\n",
       "      <td>ACADEMY DINOSAUR</td>\n",
       "      <td>2006</td>\n",
       "      <td>1</td>\n",
       "      <td>None</td>\n",
       "      <td>0.99</td>\n",
       "      <td>86</td>\n",
       "      <td>PG</td>\n",
       "      <td>6</td>\n",
       "      <td>20.99</td>\n",
       "      <td>English</td>\n",
       "      <td>Documentary</td>\n",
       "      <td>2005-05-30 20:21:07</td>\n",
       "      <td>1.99</td>\n",
       "      <td>rented</td>\n",
       "    </tr>\n",
       "  </tbody>\n",
       "</table>\n",
       "</div>"
      ],
      "text/plain": [
       "   film_id             title  release_year  language_id original_language_id  \\\n",
       "0        1  ACADEMY DINOSAUR          2006            1                 None   \n",
       "1        1  ACADEMY DINOSAUR          2006            1                 None   \n",
       "2        1  ACADEMY DINOSAUR          2006            1                 None   \n",
       "3        1  ACADEMY DINOSAUR          2006            1                 None   \n",
       "4        1  ACADEMY DINOSAUR          2006            1                 None   \n",
       "\n",
       "   rental_rate  length rating  rental_duration  replacement_cost language  \\\n",
       "0         0.99      86     PG                6             20.99  English   \n",
       "1         0.99      86     PG                6             20.99  English   \n",
       "2         0.99      86     PG                6             20.99  English   \n",
       "3         0.99      86     PG                6             20.99  English   \n",
       "4         0.99      86     PG                6             20.99  English   \n",
       "\n",
       "      category         rental_date  amount rental_status  \n",
       "0  Documentary 2005-07-08 19:03:15    0.99    not rented  \n",
       "1  Documentary 2005-08-02 20:13:10    3.99    not rented  \n",
       "2  Documentary 2005-08-21 21:27:43    3.99    not rented  \n",
       "3  Documentary 2022-09-19 17:58:11     NaN    not rented  \n",
       "4  Documentary 2005-05-30 20:21:07    1.99        rented  "
      ]
     },
     "execution_count": 1102,
     "metadata": {},
     "output_type": "execute_result"
    }
   ],
   "source": [
    "sakila.head()"
   ]
  },
  {
   "cell_type": "code",
   "execution_count": 1103,
   "id": "966b940f",
   "metadata": {},
   "outputs": [
    {
     "data": {
      "text/plain": [
       "Index(['film_id', 'title', 'release_year', 'language_id',\n",
       "       'original_language_id', 'rental_rate', 'length', 'rating',\n",
       "       'rental_duration', 'replacement_cost', 'language', 'category',\n",
       "       'rental_date', 'amount', 'rental_status'],\n",
       "      dtype='object')"
      ]
     },
     "execution_count": 1103,
     "metadata": {},
     "output_type": "execute_result"
    }
   ],
   "source": [
    "sakila.columns"
   ]
  },
  {
   "cell_type": "code",
   "execution_count": 1104,
   "id": "f3445658",
   "metadata": {},
   "outputs": [
    {
     "data": {
      "text/plain": [
       "film_id                     0\n",
       "title                       0\n",
       "release_year                0\n",
       "language_id                 0\n",
       "original_language_id    16088\n",
       "rental_rate                 0\n",
       "length                      0\n",
       "rating                      0\n",
       "rental_duration             0\n",
       "replacement_cost            0\n",
       "language                    0\n",
       "category                    0\n",
       "rental_date                43\n",
       "amount                     44\n",
       "rental_status               0\n",
       "dtype: int64"
      ]
     },
     "execution_count": 1104,
     "metadata": {},
     "output_type": "execute_result"
    }
   ],
   "source": [
    "sakila.isna().sum() #isna() shows both the NaN and None"
   ]
  },
  {
   "cell_type": "code",
   "execution_count": 1105,
   "id": "d21d8d17",
   "metadata": {},
   "outputs": [
    {
     "data": {
      "text/plain": [
       "film_id              0\n",
       "title                0\n",
       "rental_rate          0\n",
       "length               0\n",
       "rating               0\n",
       "rental_duration      0\n",
       "replacement_cost     0\n",
       "language             0\n",
       "category             0\n",
       "amount              44\n",
       "rental_status        0\n",
       "dtype: int64"
      ]
     },
     "execution_count": 1105,
     "metadata": {},
     "output_type": "execute_result"
    }
   ],
   "source": [
    "#I will be dropping some of the columns\n",
    "sakila.drop(axis=1, columns=['release_year','rental_date','language_id','original_language_id'], inplace=True)\n",
    "sakila.isna().sum()"
   ]
  },
  {
   "cell_type": "code",
   "execution_count": 1106,
   "id": "50b7c75d",
   "metadata": {},
   "outputs": [
    {
     "data": {
      "text/plain": [
       "(16088, 11)"
      ]
     },
     "execution_count": 1106,
     "metadata": {},
     "output_type": "execute_result"
    }
   ],
   "source": [
    "sakila.shape"
   ]
  },
  {
   "cell_type": "code",
   "execution_count": 1107,
   "id": "c16babd5",
   "metadata": {},
   "outputs": [
    {
     "data": {
      "text/plain": [
       "(1686, 11)"
      ]
     },
     "execution_count": 1107,
     "metadata": {},
     "output_type": "execute_result"
    }
   ],
   "source": [
    "sakila.drop_duplicates(subset=['film_id', 'rental_status'],inplace=True) # we have a lot of film duplicates.  \n",
    "sakila.shape"
   ]
  },
  {
   "cell_type": "code",
   "execution_count": 1108,
   "id": "fed9e71c",
   "metadata": {},
   "outputs": [
    {
     "data": {
      "text/plain": [
       "rented        686\n",
       "not rented    314\n",
       "Name: rental_status, dtype: int64"
      ]
     },
     "execution_count": 1108,
     "metadata": {},
     "output_type": "execute_result"
    }
   ],
   "source": [
    "sakila.sort_values(by=['rental_status'],ascending=False,inplace=True)\n",
    "sakila.drop_duplicates(subset='title', keep='first', inplace=True) #duplicates are gone!\n",
    "\n",
    "#sakila.shape\n",
    "\n",
    "sakila['rental_status'].value_counts(dropna=False)"
   ]
  },
  {
   "cell_type": "code",
   "execution_count": 1109,
   "id": "53d5f6db",
   "metadata": {},
   "outputs": [
    {
     "data": {
      "text/plain": [
       "(1000, 13)"
      ]
     },
     "metadata": {},
     "output_type": "display_data"
    },
    {
     "data": {
      "text/html": [
       "<div>\n",
       "<style scoped>\n",
       "    .dataframe tbody tr th:only-of-type {\n",
       "        vertical-align: middle;\n",
       "    }\n",
       "\n",
       "    .dataframe tbody tr th {\n",
       "        vertical-align: top;\n",
       "    }\n",
       "\n",
       "    .dataframe thead th {\n",
       "        text-align: right;\n",
       "    }\n",
       "</style>\n",
       "<table border=\"1\" class=\"dataframe\">\n",
       "  <thead>\n",
       "    <tr style=\"text-align: right;\">\n",
       "      <th></th>\n",
       "      <th>film_id</th>\n",
       "      <th>title</th>\n",
       "      <th>rental_rate</th>\n",
       "      <th>length</th>\n",
       "      <th>rating</th>\n",
       "      <th>rental_duration</th>\n",
       "      <th>replacement_cost</th>\n",
       "      <th>language</th>\n",
       "      <th>category</th>\n",
       "      <th>amount</th>\n",
       "      <th>rental_status</th>\n",
       "      <th>tot_numb_copies</th>\n",
       "      <th>num_of_rental_May</th>\n",
       "    </tr>\n",
       "  </thead>\n",
       "  <tbody>\n",
       "    <tr>\n",
       "      <th>393</th>\n",
       "      <td>1</td>\n",
       "      <td>ACADEMY DINOSAUR</td>\n",
       "      <td>0.99</td>\n",
       "      <td>86</td>\n",
       "      <td>PG</td>\n",
       "      <td>6</td>\n",
       "      <td>20.99</td>\n",
       "      <td>English</td>\n",
       "      <td>Documentary</td>\n",
       "      <td>1.99</td>\n",
       "      <td>rented</td>\n",
       "      <td>8.0</td>\n",
       "      <td>2.0</td>\n",
       "    </tr>\n",
       "    <tr>\n",
       "      <th>871</th>\n",
       "      <td>2</td>\n",
       "      <td>ACE GOLDFINGER</td>\n",
       "      <td>4.99</td>\n",
       "      <td>48</td>\n",
       "      <td>G</td>\n",
       "      <td>3</td>\n",
       "      <td>12.99</td>\n",
       "      <td>English</td>\n",
       "      <td>Horror</td>\n",
       "      <td>4.99</td>\n",
       "      <td>not rented</td>\n",
       "      <td>3.0</td>\n",
       "      <td>NaN</td>\n",
       "    </tr>\n",
       "    <tr>\n",
       "      <th>541</th>\n",
       "      <td>3</td>\n",
       "      <td>ADAPTATION HOLES</td>\n",
       "      <td>2.99</td>\n",
       "      <td>50</td>\n",
       "      <td>NC-17</td>\n",
       "      <td>7</td>\n",
       "      <td>18.99</td>\n",
       "      <td>English</td>\n",
       "      <td>Documentary</td>\n",
       "      <td>2.99</td>\n",
       "      <td>rented</td>\n",
       "      <td>4.0</td>\n",
       "      <td>1.0</td>\n",
       "    </tr>\n",
       "    <tr>\n",
       "      <th>542</th>\n",
       "      <td>4</td>\n",
       "      <td>AFFAIR PREJUDICE</td>\n",
       "      <td>2.99</td>\n",
       "      <td>117</td>\n",
       "      <td>G</td>\n",
       "      <td>5</td>\n",
       "      <td>26.99</td>\n",
       "      <td>English</td>\n",
       "      <td>Horror</td>\n",
       "      <td>3.99</td>\n",
       "      <td>rented</td>\n",
       "      <td>7.0</td>\n",
       "      <td>2.0</td>\n",
       "    </tr>\n",
       "    <tr>\n",
       "      <th>543</th>\n",
       "      <td>5</td>\n",
       "      <td>AFRICAN EGG</td>\n",
       "      <td>2.99</td>\n",
       "      <td>130</td>\n",
       "      <td>G</td>\n",
       "      <td>6</td>\n",
       "      <td>22.99</td>\n",
       "      <td>English</td>\n",
       "      <td>Family</td>\n",
       "      <td>3.99</td>\n",
       "      <td>rented</td>\n",
       "      <td>3.0</td>\n",
       "      <td>1.0</td>\n",
       "    </tr>\n",
       "  </tbody>\n",
       "</table>\n",
       "</div>"
      ],
      "text/plain": [
       "     film_id             title  rental_rate  length rating  rental_duration  \\\n",
       "393        1  ACADEMY DINOSAUR         0.99      86     PG                6   \n",
       "871        2    ACE GOLDFINGER         4.99      48      G                3   \n",
       "541        3  ADAPTATION HOLES         2.99      50  NC-17                7   \n",
       "542        4  AFFAIR PREJUDICE         2.99     117      G                5   \n",
       "543        5       AFRICAN EGG         2.99     130      G                6   \n",
       "\n",
       "     replacement_cost language     category  amount rental_status  \\\n",
       "393             20.99  English  Documentary    1.99        rented   \n",
       "871             12.99  English       Horror    4.99    not rented   \n",
       "541             18.99  English  Documentary    2.99        rented   \n",
       "542             26.99  English       Horror    3.99        rented   \n",
       "543             22.99  English       Family    3.99        rented   \n",
       "\n",
       "     tot_numb_copies  num_of_rental_May  \n",
       "393              8.0                2.0  \n",
       "871              3.0                NaN  \n",
       "541              4.0                1.0  \n",
       "542              7.0                2.0  \n",
       "543              3.0                1.0  "
      ]
     },
     "metadata": {},
     "output_type": "display_data"
    }
   ],
   "source": [
    "# Merging the additional table with important statistics such as \n",
    "                                # the total number of copies of each movie in the inventory\n",
    "                                # number of times the movie is rented in May 2005\n",
    "\n",
    "sakila = pd.merge(left = sakila,\n",
    "                                  right = temp_merged,\n",
    "                                  how = 'left', \n",
    "                                  left_on = \"film_id\", \n",
    "                                  right_on= \"film_id\")\n",
    "\n",
    "sakila.sort_values(by=['film_id'],ascending=True,inplace=True)\n",
    "display(sakila.shape)\n",
    "display(sakila.head())"
   ]
  },
  {
   "cell_type": "code",
   "execution_count": 1110,
   "id": "a0d08909",
   "metadata": {},
   "outputs": [
    {
     "data": {
      "text/plain": [
       "film_id                0\n",
       "title                  0\n",
       "rental_rate            0\n",
       "length                 0\n",
       "rating                 0\n",
       "rental_duration        0\n",
       "replacement_cost       0\n",
       "language               0\n",
       "category               0\n",
       "amount                42\n",
       "rental_status          0\n",
       "tot_numb_copies       42\n",
       "num_of_rental_May    314\n",
       "dtype: int64"
      ]
     },
     "execution_count": 1110,
     "metadata": {},
     "output_type": "execute_result"
    }
   ],
   "source": [
    "sakila.isna().sum()  # we know that the 314 NaN in 'num_of_rental_May' correspond to 'not rented' movies"
   ]
  },
  {
   "cell_type": "code",
   "execution_count": 1111,
   "id": "c44e5ef7",
   "metadata": {},
   "outputs": [
    {
     "data": {
      "text/plain": [
       "film_id              0\n",
       "title                0\n",
       "rental_rate          0\n",
       "length               0\n",
       "rating               0\n",
       "rental_duration      0\n",
       "replacement_cost     0\n",
       "language             0\n",
       "category             0\n",
       "amount               0\n",
       "rental_status        0\n",
       "tot_numb_copies      0\n",
       "num_of_rental_May    0\n",
       "dtype: int64"
      ]
     },
     "execution_count": 1111,
     "metadata": {},
     "output_type": "execute_result"
    }
   ],
   "source": [
    "##Comments on NaNs\n",
    "\n",
    "# 'amount': NaN in amount basically means 'not rented'. So '0' dollars..\n",
    "# 'tot_numb_copies': not every movie has a copy in the inventory. That's most probably why there is also 42 NaN Amount\n",
    "# 'num_of_rental_May': Not rented movies. The NaN will be replaced by '0'\n",
    "\n",
    "sakila=sakila.fillna(0)\n",
    "\n",
    "sakila.isna().sum()"
   ]
  },
  {
   "cell_type": "code",
   "execution_count": 1112,
   "id": "4b1575df",
   "metadata": {},
   "outputs": [],
   "source": [
    "## It may be a good idea to create something called a 'rental_index'\n",
    "\n",
    "sakila['rental_index']=sakila['num_of_rental_May']/sakila['tot_numb_copies'] "
   ]
  },
  {
   "cell_type": "code",
   "execution_count": 1113,
   "id": "aab7a9cc",
   "metadata": {},
   "outputs": [
    {
     "data": {
      "text/plain": [
       "film_id               0\n",
       "title                 0\n",
       "rental_rate           0\n",
       "length                0\n",
       "rating                0\n",
       "rental_duration       0\n",
       "replacement_cost      0\n",
       "language              0\n",
       "category              0\n",
       "amount                0\n",
       "rental_status         0\n",
       "tot_numb_copies       0\n",
       "num_of_rental_May     0\n",
       "rental_index         42\n",
       "dtype: int64"
      ]
     },
     "execution_count": 1113,
     "metadata": {},
     "output_type": "execute_result"
    }
   ],
   "source": [
    "sakila.isna().sum()"
   ]
  },
  {
   "cell_type": "code",
   "execution_count": 1114,
   "id": "345c82e0",
   "metadata": {},
   "outputs": [
    {
     "data": {
      "text/plain": [
       "film_id              0\n",
       "title                0\n",
       "rental_rate          0\n",
       "length               0\n",
       "rating               0\n",
       "rental_duration      0\n",
       "replacement_cost     0\n",
       "language             0\n",
       "category             0\n",
       "amount               0\n",
       "rental_status        0\n",
       "tot_numb_copies      0\n",
       "num_of_rental_May    0\n",
       "rental_index         0\n",
       "dtype: int64"
      ]
     },
     "execution_count": 1114,
     "metadata": {},
     "output_type": "execute_result"
    }
   ],
   "source": [
    "sakila=sakila.fillna(0)\n",
    "sakila.isna().sum()"
   ]
  },
  {
   "cell_type": "code",
   "execution_count": 1115,
   "id": "03a6cd17",
   "metadata": {},
   "outputs": [],
   "source": [
    "# Dropping more colummns.\n",
    "sakila.drop(axis=1, columns=['film_id', 'title'], inplace=True)\n",
    "sakila.reset_index(drop=True, inplace=True)"
   ]
  },
  {
   "cell_type": "code",
   "execution_count": 1116,
   "id": "32844de4",
   "metadata": {},
   "outputs": [
    {
     "data": {
      "text/html": [
       "<div>\n",
       "<style scoped>\n",
       "    .dataframe tbody tr th:only-of-type {\n",
       "        vertical-align: middle;\n",
       "    }\n",
       "\n",
       "    .dataframe tbody tr th {\n",
       "        vertical-align: top;\n",
       "    }\n",
       "\n",
       "    .dataframe thead th {\n",
       "        text-align: right;\n",
       "    }\n",
       "</style>\n",
       "<table border=\"1\" class=\"dataframe\">\n",
       "  <thead>\n",
       "    <tr style=\"text-align: right;\">\n",
       "      <th></th>\n",
       "      <th>rental_rate</th>\n",
       "      <th>length</th>\n",
       "      <th>rating</th>\n",
       "      <th>rental_duration</th>\n",
       "      <th>replacement_cost</th>\n",
       "      <th>language</th>\n",
       "      <th>category</th>\n",
       "      <th>amount</th>\n",
       "      <th>rental_status</th>\n",
       "      <th>tot_numb_copies</th>\n",
       "      <th>num_of_rental_May</th>\n",
       "      <th>rental_index</th>\n",
       "    </tr>\n",
       "  </thead>\n",
       "  <tbody>\n",
       "    <tr>\n",
       "      <th>0</th>\n",
       "      <td>0.99</td>\n",
       "      <td>86</td>\n",
       "      <td>PG</td>\n",
       "      <td>6</td>\n",
       "      <td>20.99</td>\n",
       "      <td>English</td>\n",
       "      <td>Documentary</td>\n",
       "      <td>1.99</td>\n",
       "      <td>rented</td>\n",
       "      <td>8.0</td>\n",
       "      <td>2.0</td>\n",
       "      <td>0.250000</td>\n",
       "    </tr>\n",
       "    <tr>\n",
       "      <th>1</th>\n",
       "      <td>4.99</td>\n",
       "      <td>48</td>\n",
       "      <td>G</td>\n",
       "      <td>3</td>\n",
       "      <td>12.99</td>\n",
       "      <td>English</td>\n",
       "      <td>Horror</td>\n",
       "      <td>4.99</td>\n",
       "      <td>not rented</td>\n",
       "      <td>3.0</td>\n",
       "      <td>0.0</td>\n",
       "      <td>0.000000</td>\n",
       "    </tr>\n",
       "    <tr>\n",
       "      <th>2</th>\n",
       "      <td>2.99</td>\n",
       "      <td>50</td>\n",
       "      <td>NC-17</td>\n",
       "      <td>7</td>\n",
       "      <td>18.99</td>\n",
       "      <td>English</td>\n",
       "      <td>Documentary</td>\n",
       "      <td>2.99</td>\n",
       "      <td>rented</td>\n",
       "      <td>4.0</td>\n",
       "      <td>1.0</td>\n",
       "      <td>0.250000</td>\n",
       "    </tr>\n",
       "    <tr>\n",
       "      <th>3</th>\n",
       "      <td>2.99</td>\n",
       "      <td>117</td>\n",
       "      <td>G</td>\n",
       "      <td>5</td>\n",
       "      <td>26.99</td>\n",
       "      <td>English</td>\n",
       "      <td>Horror</td>\n",
       "      <td>3.99</td>\n",
       "      <td>rented</td>\n",
       "      <td>7.0</td>\n",
       "      <td>2.0</td>\n",
       "      <td>0.285714</td>\n",
       "    </tr>\n",
       "    <tr>\n",
       "      <th>4</th>\n",
       "      <td>2.99</td>\n",
       "      <td>130</td>\n",
       "      <td>G</td>\n",
       "      <td>6</td>\n",
       "      <td>22.99</td>\n",
       "      <td>English</td>\n",
       "      <td>Family</td>\n",
       "      <td>3.99</td>\n",
       "      <td>rented</td>\n",
       "      <td>3.0</td>\n",
       "      <td>1.0</td>\n",
       "      <td>0.333333</td>\n",
       "    </tr>\n",
       "  </tbody>\n",
       "</table>\n",
       "</div>"
      ],
      "text/plain": [
       "   rental_rate  length rating  rental_duration  replacement_cost language  \\\n",
       "0         0.99      86     PG                6             20.99  English   \n",
       "1         4.99      48      G                3             12.99  English   \n",
       "2         2.99      50  NC-17                7             18.99  English   \n",
       "3         2.99     117      G                5             26.99  English   \n",
       "4         2.99     130      G                6             22.99  English   \n",
       "\n",
       "      category  amount rental_status  tot_numb_copies  num_of_rental_May  \\\n",
       "0  Documentary    1.99        rented              8.0                2.0   \n",
       "1       Horror    4.99    not rented              3.0                0.0   \n",
       "2  Documentary    2.99        rented              4.0                1.0   \n",
       "3       Horror    3.99        rented              7.0                2.0   \n",
       "4       Family    3.99        rented              3.0                1.0   \n",
       "\n",
       "   rental_index  \n",
       "0      0.250000  \n",
       "1      0.000000  \n",
       "2      0.250000  \n",
       "3      0.285714  \n",
       "4      0.333333  "
      ]
     },
     "execution_count": 1116,
     "metadata": {},
     "output_type": "execute_result"
    }
   ],
   "source": [
    "sakila.head()"
   ]
  },
  {
   "cell_type": "markdown",
   "id": "f927857f",
   "metadata": {},
   "source": [
    "# Check for multicollinearity"
   ]
  },
  {
   "cell_type": "code",
   "execution_count": 1117,
   "id": "f7ccd2e9",
   "metadata": {},
   "outputs": [
    {
     "data": {
      "image/png": "[encoded data removed]",
      "text/plain": [
       "<Figure size 576x576 with 2 Axes>"
      ]
     },
     "metadata": {
      "needs_background": "light"
     },
     "output_type": "display_data"
    }
   ],
   "source": [
    "corr_matrix=sakila.corr(method='pearson')  # default\n",
    "fig, ax = plt.subplots(figsize=(8, 8))\n",
    "ax = sns.heatmap(corr_matrix, annot=True)\n",
    "plt.show()"
   ]
  },
  {
   "cell_type": "markdown",
   "id": "d7e07f81",
   "metadata": {},
   "source": [
    "# Check for distributions"
   ]
  },
  {
   "cell_type": "code",
   "execution_count": 1118,
   "id": "376d4196",
   "metadata": {},
   "outputs": [
    {
     "data": {
      "image/png": "[encoded data removed]",
      "text/plain": [
       "<Figure size 360x360 with 1 Axes>"
      ]
     },
     "metadata": {
      "needs_background": "light"
     },
     "output_type": "display_data"
    },
    {
     "data": {
      "image/png": "[encoded data removed]",
      "text/plain": [
       "<Figure size 360x360 with 1 Axes>"
      ]
     },
     "metadata": {
      "needs_background": "light"
     },
     "output_type": "display_data"
    },
    {
     "data": {
      "image/png": "[encoded data removed]",
      "text/plain": [
       "<Figure size 360x360 with 1 Axes>"
      ]
     },
     "metadata": {
      "needs_background": "light"
     },
     "output_type": "display_data"
    },
    {
     "data": {
      "image/png": "[encoded data removed]",
      "text/plain": [
       "<Figure size 360x360 with 1 Axes>"
      ]
     },
     "metadata": {
      "needs_background": "light"
     },
     "output_type": "display_data"
    },
    {
     "data": {
      "image/png": "[encoded data removed]",
      "text/plain": [
       "<Figure size 360x360 with 1 Axes>"
      ]
     },
     "metadata": {
      "needs_background": "light"
     },
     "output_type": "display_data"
    }
   ],
   "source": [
    "# Check for data distributions of each numerical feature\n",
    "sns.displot(sakila['rental_rate']) # It seems that 'rental_rate' is more like a category...\n",
    "plt.show()\n",
    "\n",
    "sns.displot(sakila['length'])\n",
    "plt.show()\n",
    "\n",
    "sns.displot(sakila['rental_duration'])\n",
    "plt.show()\n",
    "\n",
    "sns.displot(sakila['replacement_cost'])\n",
    "plt.show()\n",
    "\n",
    "sns.displot(sakila['amount'])\n",
    "plt.show()"
   ]
  },
  {
   "cell_type": "code",
   "execution_count": 1119,
   "id": "b9f56410",
   "metadata": {},
   "outputs": [
    {
     "data": {
      "text/plain": [
       "0.99    341\n",
       "4.99    336\n",
       "2.99    323\n",
       "Name: rental_rate, dtype: int64"
      ]
     },
     "execution_count": 1119,
     "metadata": {},
     "output_type": "execute_result"
    }
   ],
   "source": [
    "sakila['rental_rate'].value_counts() #Indeed, rental_rate is actually categorical"
   ]
  },
  {
   "cell_type": "code",
   "execution_count": 1120,
   "id": "9c5ec295",
   "metadata": {},
   "outputs": [
    {
     "data": {
      "text/plain": [
       "6    212\n",
       "3    203\n",
       "4    203\n",
       "7    191\n",
       "5    191\n",
       "Name: rental_duration, dtype: int64"
      ]
     },
     "execution_count": 1120,
     "metadata": {},
     "output_type": "execute_result"
    }
   ],
   "source": [
    "sakila['rental_duration'].value_counts() #On the other hand, rental_duration may stay numerical"
   ]
  },
  {
   "cell_type": "code",
   "execution_count": 1121,
   "id": "5bcd5ca8",
   "metadata": {},
   "outputs": [
    {
     "data": {
      "text/plain": [
       "rental_rate           object\n",
       "length                 int64\n",
       "rating                object\n",
       "rental_duration        int64\n",
       "replacement_cost     float64\n",
       "language              object\n",
       "category              object\n",
       "amount               float64\n",
       "rental_status         object\n",
       "tot_numb_copies      float64\n",
       "num_of_rental_May    float64\n",
       "rental_index         float64\n",
       "dtype: object"
      ]
     },
     "execution_count": 1121,
     "metadata": {},
     "output_type": "execute_result"
    }
   ],
   "source": [
    "sakila['rental_rate'] = sakila['rental_rate'].astype('object') # This will be treated as categorical\n",
    "sakila.dtypes"
   ]
  },
  {
   "cell_type": "markdown",
   "id": "b939e95e",
   "metadata": {},
   "source": [
    "# X-y-split & train-test-split"
   ]
  },
  {
   "cell_type": "code",
   "execution_count": 1122,
   "id": "f1923fee",
   "metadata": {},
   "outputs": [],
   "source": [
    "# Need to X-y-split AND train-test-split BEFORE I apply transformations, \n",
    "# then train transformation on training set only\n",
    "\n",
    "y = sakila['rental_status']\n",
    "X = sakila.drop('rental_status', axis=1)\n",
    "\n",
    "from sklearn.model_selection import train_test_split\n",
    "X_train, X_test, y_train, y_test = train_test_split(X, y, test_size=0.2, random_state=1337)"
   ]
  },
  {
   "cell_type": "markdown",
   "id": "b7884be7",
   "metadata": {},
   "source": [
    "# MinMaxScaling & Encoding (X_train ONLY)"
   ]
  },
  {
   "cell_type": "code",
   "execution_count": 1123,
   "id": "8e8e1256",
   "metadata": {},
   "outputs": [
    {
     "data": {
      "text/html": [
       "<div>\n",
       "<style scoped>\n",
       "    .dataframe tbody tr th:only-of-type {\n",
       "        vertical-align: middle;\n",
       "    }\n",
       "\n",
       "    .dataframe tbody tr th {\n",
       "        vertical-align: top;\n",
       "    }\n",
       "\n",
       "    .dataframe thead th {\n",
       "        text-align: right;\n",
       "    }\n",
       "</style>\n",
       "<table border=\"1\" class=\"dataframe\">\n",
       "  <thead>\n",
       "    <tr style=\"text-align: right;\">\n",
       "      <th></th>\n",
       "      <th>length</th>\n",
       "      <th>rental_duration</th>\n",
       "      <th>replacement_cost</th>\n",
       "      <th>amount</th>\n",
       "      <th>tot_numb_copies</th>\n",
       "      <th>num_of_rental_May</th>\n",
       "      <th>rental_index</th>\n",
       "    </tr>\n",
       "  </thead>\n",
       "  <tbody>\n",
       "    <tr>\n",
       "      <th>0</th>\n",
       "      <td>0.769784</td>\n",
       "      <td>0.50</td>\n",
       "      <td>0.70</td>\n",
       "      <td>0.416180</td>\n",
       "      <td>0.250</td>\n",
       "      <td>0.2</td>\n",
       "      <td>0.500000</td>\n",
       "    </tr>\n",
       "    <tr>\n",
       "      <th>1</th>\n",
       "      <td>0.151079</td>\n",
       "      <td>0.75</td>\n",
       "      <td>0.65</td>\n",
       "      <td>0.082569</td>\n",
       "      <td>0.875</td>\n",
       "      <td>0.2</td>\n",
       "      <td>0.142857</td>\n",
       "    </tr>\n",
       "    <tr>\n",
       "      <th>2</th>\n",
       "      <td>0.258993</td>\n",
       "      <td>0.00</td>\n",
       "      <td>1.00</td>\n",
       "      <td>0.416180</td>\n",
       "      <td>0.875</td>\n",
       "      <td>0.2</td>\n",
       "      <td>0.142857</td>\n",
       "    </tr>\n",
       "    <tr>\n",
       "      <th>3</th>\n",
       "      <td>0.223022</td>\n",
       "      <td>0.50</td>\n",
       "      <td>0.70</td>\n",
       "      <td>0.416180</td>\n",
       "      <td>0.875</td>\n",
       "      <td>0.8</td>\n",
       "      <td>0.571429</td>\n",
       "    </tr>\n",
       "    <tr>\n",
       "      <th>4</th>\n",
       "      <td>0.733813</td>\n",
       "      <td>0.25</td>\n",
       "      <td>0.65</td>\n",
       "      <td>0.332777</td>\n",
       "      <td>0.500</td>\n",
       "      <td>0.4</td>\n",
       "      <td>0.500000</td>\n",
       "    </tr>\n",
       "  </tbody>\n",
       "</table>\n",
       "</div>"
      ],
      "text/plain": [
       "     length  rental_duration  replacement_cost    amount  tot_numb_copies  \\\n",
       "0  0.769784             0.50              0.70  0.416180            0.250   \n",
       "1  0.151079             0.75              0.65  0.082569            0.875   \n",
       "2  0.258993             0.00              1.00  0.416180            0.875   \n",
       "3  0.223022             0.50              0.70  0.416180            0.875   \n",
       "4  0.733813             0.25              0.65  0.332777            0.500   \n",
       "\n",
       "   num_of_rental_May  rental_index  \n",
       "0                0.2      0.500000  \n",
       "1                0.2      0.142857  \n",
       "2                0.2      0.142857  \n",
       "3                0.8      0.571429  \n",
       "4                0.4      0.500000  "
      ]
     },
     "execution_count": 1123,
     "metadata": {},
     "output_type": "execute_result"
    }
   ],
   "source": [
    "#MinMaxScaling\n",
    "\n",
    "from sklearn.preprocessing import MinMaxScaler\n",
    "\n",
    "X_train_num = X_train.select_dtypes(include = np.number)\n",
    "\n",
    "transformer = MinMaxScaler().fit(X_train_num) # need to keep transformer\n",
    "X_train_normalized = transformer.transform(X_train_num)\n",
    "X_train_norm = pd.DataFrame(X_train_normalized, columns=X_train_num.columns) #syntax: pd.DataFrame (content of the df, column names)\n",
    "X_train_norm.head()"
   ]
  },
  {
   "cell_type": "code",
   "execution_count": 1124,
   "id": "b49c9223",
   "metadata": {},
   "outputs": [],
   "source": [
    "#OneHotEncoding\n",
    "\n",
    "from sklearn.preprocessing import OneHotEncoder\n",
    "\n",
    "X_train_categorical = X_train.select_dtypes(include = object)\n",
    "\n",
    "encoder = OneHotEncoder(drop='first').fit(X_train_categorical) # need to keep encoder\n",
    "cols=encoder.get_feature_names_out(input_features=X_train_categorical.columns)\n",
    "encoded = encoder.transform(X_train_categorical).toarray() #we want to transform the X_cut and make it an array\n",
    "X_train_cat = pd.DataFrame(encoded,columns=cols) #make it a df"
   ]
  },
  {
   "cell_type": "code",
   "execution_count": 1125,
   "id": "fa3a326f",
   "metadata": {},
   "outputs": [],
   "source": [
    "# Building the transformed X_train by concatenating X_train_norm and X_train_cat\n",
    "\n",
    "X_train_transformed = np.concatenate([X_train_norm, X_train_cat], axis=1)"
   ]
  },
  {
   "cell_type": "markdown",
   "id": "e4747808",
   "metadata": {},
   "source": [
    "# Building the model with X_train_transformed"
   ]
  },
  {
   "cell_type": "code",
   "execution_count": 1126,
   "id": "c6fb491a",
   "metadata": {},
   "outputs": [],
   "source": [
    "#Building the model with training data\n",
    "from sklearn.linear_model import LogisticRegression\n",
    "classification = LogisticRegression(random_state=0, solver='lbfgs',\n",
    "                  multi_class='multinomial').fit(X_train_transformed, y_train)"
   ]
  },
  {
   "cell_type": "code",
   "execution_count": 1127,
   "id": "aa92aa3f",
   "metadata": {},
   "outputs": [],
   "source": [
    "# Model is ready now.\n",
    "#Before making predictions, we have to transform X_test first."
   ]
  },
  {
   "cell_type": "markdown",
   "id": "408fd8f0",
   "metadata": {},
   "source": [
    "# MinMaxScaling & Encoding (X_test)"
   ]
  },
  {
   "cell_type": "code",
   "execution_count": 1128,
   "id": "5e8f4aae",
   "metadata": {},
   "outputs": [
    {
     "data": {
      "text/html": [
       "<div>\n",
       "<style scoped>\n",
       "    .dataframe tbody tr th:only-of-type {\n",
       "        vertical-align: middle;\n",
       "    }\n",
       "\n",
       "    .dataframe tbody tr th {\n",
       "        vertical-align: top;\n",
       "    }\n",
       "\n",
       "    .dataframe thead th {\n",
       "        text-align: right;\n",
       "    }\n",
       "</style>\n",
       "<table border=\"1\" class=\"dataframe\">\n",
       "  <thead>\n",
       "    <tr style=\"text-align: right;\">\n",
       "      <th></th>\n",
       "      <th>rental_rate_2.99</th>\n",
       "      <th>rental_rate_4.99</th>\n",
       "      <th>rating_NC-17</th>\n",
       "      <th>rating_PG</th>\n",
       "      <th>rating_PG-13</th>\n",
       "      <th>rating_R</th>\n",
       "      <th>category_Animation</th>\n",
       "      <th>category_Children</th>\n",
       "      <th>category_Classics</th>\n",
       "      <th>category_Comedy</th>\n",
       "      <th>...</th>\n",
       "      <th>category_Drama</th>\n",
       "      <th>category_Family</th>\n",
       "      <th>category_Foreign</th>\n",
       "      <th>category_Games</th>\n",
       "      <th>category_Horror</th>\n",
       "      <th>category_Music</th>\n",
       "      <th>category_New</th>\n",
       "      <th>category_Sci-Fi</th>\n",
       "      <th>category_Sports</th>\n",
       "      <th>category_Travel</th>\n",
       "    </tr>\n",
       "  </thead>\n",
       "  <tbody>\n",
       "    <tr>\n",
       "      <th>0</th>\n",
       "      <td>0.0</td>\n",
       "      <td>0.0</td>\n",
       "      <td>0.0</td>\n",
       "      <td>0.0</td>\n",
       "      <td>0.0</td>\n",
       "      <td>1.0</td>\n",
       "      <td>0.0</td>\n",
       "      <td>0.0</td>\n",
       "      <td>0.0</td>\n",
       "      <td>1.0</td>\n",
       "      <td>...</td>\n",
       "      <td>0.0</td>\n",
       "      <td>0.0</td>\n",
       "      <td>0.0</td>\n",
       "      <td>0.0</td>\n",
       "      <td>0.0</td>\n",
       "      <td>0.0</td>\n",
       "      <td>0.0</td>\n",
       "      <td>0.0</td>\n",
       "      <td>0.0</td>\n",
       "      <td>0.0</td>\n",
       "    </tr>\n",
       "    <tr>\n",
       "      <th>1</th>\n",
       "      <td>1.0</td>\n",
       "      <td>0.0</td>\n",
       "      <td>1.0</td>\n",
       "      <td>0.0</td>\n",
       "      <td>0.0</td>\n",
       "      <td>0.0</td>\n",
       "      <td>0.0</td>\n",
       "      <td>0.0</td>\n",
       "      <td>0.0</td>\n",
       "      <td>0.0</td>\n",
       "      <td>...</td>\n",
       "      <td>0.0</td>\n",
       "      <td>0.0</td>\n",
       "      <td>1.0</td>\n",
       "      <td>0.0</td>\n",
       "      <td>0.0</td>\n",
       "      <td>0.0</td>\n",
       "      <td>0.0</td>\n",
       "      <td>0.0</td>\n",
       "      <td>0.0</td>\n",
       "      <td>0.0</td>\n",
       "    </tr>\n",
       "    <tr>\n",
       "      <th>2</th>\n",
       "      <td>1.0</td>\n",
       "      <td>0.0</td>\n",
       "      <td>0.0</td>\n",
       "      <td>0.0</td>\n",
       "      <td>1.0</td>\n",
       "      <td>0.0</td>\n",
       "      <td>0.0</td>\n",
       "      <td>0.0</td>\n",
       "      <td>0.0</td>\n",
       "      <td>0.0</td>\n",
       "      <td>...</td>\n",
       "      <td>0.0</td>\n",
       "      <td>0.0</td>\n",
       "      <td>0.0</td>\n",
       "      <td>0.0</td>\n",
       "      <td>0.0</td>\n",
       "      <td>0.0</td>\n",
       "      <td>0.0</td>\n",
       "      <td>0.0</td>\n",
       "      <td>0.0</td>\n",
       "      <td>1.0</td>\n",
       "    </tr>\n",
       "    <tr>\n",
       "      <th>3</th>\n",
       "      <td>1.0</td>\n",
       "      <td>0.0</td>\n",
       "      <td>0.0</td>\n",
       "      <td>1.0</td>\n",
       "      <td>0.0</td>\n",
       "      <td>0.0</td>\n",
       "      <td>0.0</td>\n",
       "      <td>0.0</td>\n",
       "      <td>0.0</td>\n",
       "      <td>0.0</td>\n",
       "      <td>...</td>\n",
       "      <td>0.0</td>\n",
       "      <td>0.0</td>\n",
       "      <td>0.0</td>\n",
       "      <td>0.0</td>\n",
       "      <td>0.0</td>\n",
       "      <td>0.0</td>\n",
       "      <td>0.0</td>\n",
       "      <td>0.0</td>\n",
       "      <td>0.0</td>\n",
       "      <td>0.0</td>\n",
       "    </tr>\n",
       "    <tr>\n",
       "      <th>4</th>\n",
       "      <td>0.0</td>\n",
       "      <td>0.0</td>\n",
       "      <td>0.0</td>\n",
       "      <td>0.0</td>\n",
       "      <td>1.0</td>\n",
       "      <td>0.0</td>\n",
       "      <td>0.0</td>\n",
       "      <td>0.0</td>\n",
       "      <td>0.0</td>\n",
       "      <td>0.0</td>\n",
       "      <td>...</td>\n",
       "      <td>0.0</td>\n",
       "      <td>0.0</td>\n",
       "      <td>0.0</td>\n",
       "      <td>0.0</td>\n",
       "      <td>0.0</td>\n",
       "      <td>0.0</td>\n",
       "      <td>0.0</td>\n",
       "      <td>0.0</td>\n",
       "      <td>0.0</td>\n",
       "      <td>0.0</td>\n",
       "    </tr>\n",
       "  </tbody>\n",
       "</table>\n",
       "<p>5 rows × 21 columns</p>\n",
       "</div>"
      ],
      "text/plain": [
       "   rental_rate_2.99  rental_rate_4.99  rating_NC-17  rating_PG  rating_PG-13  \\\n",
       "0               0.0               0.0           0.0        0.0           0.0   \n",
       "1               1.0               0.0           1.0        0.0           0.0   \n",
       "2               1.0               0.0           0.0        0.0           1.0   \n",
       "3               1.0               0.0           0.0        1.0           0.0   \n",
       "4               0.0               0.0           0.0        0.0           1.0   \n",
       "\n",
       "   rating_R  category_Animation  category_Children  category_Classics  \\\n",
       "0       1.0                 0.0                0.0                0.0   \n",
       "1       0.0                 0.0                0.0                0.0   \n",
       "2       0.0                 0.0                0.0                0.0   \n",
       "3       0.0                 0.0                0.0                0.0   \n",
       "4       0.0                 0.0                0.0                0.0   \n",
       "\n",
       "   category_Comedy  ...  category_Drama  category_Family  category_Foreign  \\\n",
       "0              1.0  ...             0.0              0.0               0.0   \n",
       "1              0.0  ...             0.0              0.0               1.0   \n",
       "2              0.0  ...             0.0              0.0               0.0   \n",
       "3              0.0  ...             0.0              0.0               0.0   \n",
       "4              0.0  ...             0.0              0.0               0.0   \n",
       "\n",
       "   category_Games  category_Horror  category_Music  category_New  \\\n",
       "0             0.0              0.0             0.0           0.0   \n",
       "1             0.0              0.0             0.0           0.0   \n",
       "2             0.0              0.0             0.0           0.0   \n",
       "3             0.0              0.0             0.0           0.0   \n",
       "4             0.0              0.0             0.0           0.0   \n",
       "\n",
       "   category_Sci-Fi  category_Sports  category_Travel  \n",
       "0              0.0              0.0              0.0  \n",
       "1              0.0              0.0              0.0  \n",
       "2              0.0              0.0              1.0  \n",
       "3              0.0              0.0              0.0  \n",
       "4              0.0              0.0              0.0  \n",
       "\n",
       "[5 rows x 21 columns]"
      ]
     },
     "execution_count": 1128,
     "metadata": {},
     "output_type": "execute_result"
    }
   ],
   "source": [
    "## for numericals\n",
    "X_test_num = X_test.select_dtypes(include = np.number)\n",
    "# MinMaxScaling data\n",
    "# we use the transformer that was trained on the training data\n",
    "X_test_normalized = transformer.transform(X_test_num)\n",
    "X_test_norm = pd.DataFrame(X_test_normalized)\n",
    "\n",
    "\n",
    "## for categoricals\n",
    "X_test_categorical = X_test.select_dtypes(include = object)\n",
    "# OneHotEncoding data\n",
    "# we use the encoder that was trained on the training data\n",
    "cols=encoder.get_feature_names_out(input_features=X_test_categorical.columns)\n",
    "encoded = encoder.transform(X_test_categorical).toarray() #we want to transform the X_cut and make it an array\n",
    "X_test_cat = pd.DataFrame(encoded,columns=cols)\n",
    "X_test_cat.head()"
   ]
  },
  {
   "cell_type": "code",
   "execution_count": 1129,
   "id": "0f2dec81",
   "metadata": {},
   "outputs": [],
   "source": [
    "#Concatenation\n",
    "X_test_transformed = np.concatenate([X_test_norm, X_test_cat], axis=1)"
   ]
  },
  {
   "cell_type": "markdown",
   "id": "19f31271",
   "metadata": {},
   "source": [
    "# Prediction"
   ]
  },
  {
   "cell_type": "code",
   "execution_count": 1130,
   "id": "6ff98f28",
   "metadata": {},
   "outputs": [
    {
     "data": {
      "text/plain": [
       "1.0"
      ]
     },
     "execution_count": 1130,
     "metadata": {},
     "output_type": "execute_result"
    }
   ],
   "source": [
    "# Now we can make predictions on the test set:\n",
    "predictions = classification.predict(X_test_transformed)\n",
    "predictions\n",
    "classification.score(X_test_transformed, y_test)"
   ]
  },
  {
   "cell_type": "code",
   "execution_count": 1131,
   "id": "a42363ce",
   "metadata": {},
   "outputs": [
    {
     "name": "stdout",
     "output_type": "stream",
     "text": [
      "rented        138\n",
      "not rented     62\n",
      "Name: rental_status, dtype: int64\n"
     ]
    }
   ],
   "source": [
    "print(y_test.value_counts())"
   ]
  },
  {
   "cell_type": "code",
   "execution_count": 1132,
   "id": "0acadd98",
   "metadata": {},
   "outputs": [
    {
     "data": {
      "text/plain": [
       "rented        138\n",
       "not rented     62\n",
       "dtype: int64"
      ]
     },
     "execution_count": 1132,
     "metadata": {},
     "output_type": "execute_result"
    }
   ],
   "source": [
    "pd.Series(predictions).value_counts()"
   ]
  },
  {
   "cell_type": "code",
   "execution_count": 1133,
   "id": "c393c50a",
   "metadata": {},
   "outputs": [
    {
     "data": {
      "text/plain": [
       "array([[ 62,   0],\n",
       "       [  0, 138]])"
      ]
     },
     "execution_count": 1133,
     "metadata": {},
     "output_type": "execute_result"
    }
   ],
   "source": [
    "from sklearn.metrics import confusion_matrix\n",
    "confusion_matrix(y_test, predictions)"
   ]
  },
  {
   "cell_type": "code",
   "execution_count": 1134,
   "id": "be078653",
   "metadata": {},
   "outputs": [],
   "source": [
    "# predicted | NR| R |  \n",
    "# --------------------\n",
    "# actual  NR | 62| 0| \n",
    "# --------------------\n",
    "#         R | 0| 138|\n",
    "# --------------------"
   ]
  },
  {
   "cell_type": "markdown",
   "id": "2a5d51a1",
   "metadata": {},
   "source": [
    "# KNN K-nearest neighbors classification"
   ]
  },
  {
   "cell_type": "code",
   "execution_count": 1135,
   "id": "cce8672c",
   "metadata": {},
   "outputs": [
    {
     "data": {
      "text/plain": [
       "0.75"
      ]
     },
     "execution_count": 1135,
     "metadata": {},
     "output_type": "execute_result"
    }
   ],
   "source": [
    "# Trying KNN K-nearest neighbors\n",
    "\n",
    "from sklearn import neighbors\n",
    "clf = neighbors.KNeighborsClassifier(n_neighbors=5, weights='uniform') #clf is the classifier\n",
    "clf.fit(X_train_transformed, y_train)\n",
    "predictions_clf = clf.predict(X_test_transformed)\n",
    "clf.score(X_test_transformed, y_test) #Is this the r2 score? I am supposing so. "
   ]
  },
  {
   "cell_type": "code",
   "execution_count": 1136,
   "id": "45ca6359",
   "metadata": {},
   "outputs": [
    {
     "data": {
      "text/plain": [
       "rented        138\n",
       "not rented     62\n",
       "Name: rental_status, dtype: int64"
      ]
     },
     "execution_count": 1136,
     "metadata": {},
     "output_type": "execute_result"
    }
   ],
   "source": [
    "pd.Series(y_test).value_counts()"
   ]
  },
  {
   "cell_type": "code",
   "execution_count": 1137,
   "id": "ddb3c141",
   "metadata": {},
   "outputs": [
    {
     "data": {
      "text/plain": [
       "rented        164\n",
       "not rented     36\n",
       "dtype: int64"
      ]
     },
     "execution_count": 1137,
     "metadata": {},
     "output_type": "execute_result"
    }
   ],
   "source": [
    "pd.Series(predictions_clf).value_counts() \n"
   ]
  },
  {
   "cell_type": "code",
   "execution_count": 1138,
   "id": "9d14d5fe",
   "metadata": {},
   "outputs": [
    {
     "data": {
      "text/plain": [
       "array([[ 24,  38],\n",
       "       [ 12, 126]])"
      ]
     },
     "execution_count": 1138,
     "metadata": {},
     "output_type": "execute_result"
    }
   ],
   "source": [
    "confusion_matrix(y_test, predictions_clf)"
   ]
  },
  {
   "cell_type": "code",
   "execution_count": 1139,
   "id": "e4377157",
   "metadata": {},
   "outputs": [],
   "source": [
    "# predicted | NR| R |  \n",
    "# --------------------\n",
    "# actual  NR | 24| 38| \n",
    "# --------------------\n",
    "#         R | 12| 126|\n",
    "# --------------------"
   ]
  },
  {
   "cell_type": "markdown",
   "id": "9f91081b",
   "metadata": {},
   "source": [
    "# Comments"
   ]
  },
  {
   "cell_type": "code",
   "execution_count": 1140,
   "id": "bbd36ad1",
   "metadata": {},
   "outputs": [],
   "source": [
    "# I tried building 1) logistic regression 2) KNN model \n",
    "\n",
    "#In addition to the other features used in the models, what made difference was including/ excluding the following\n",
    "    #three columns (and combinations of their absences): \n",
    "\n",
    "                # 'tot_numb_copies'\n",
    "                # 'num_of_rental_May'\n",
    "                # 'rental_index' = 'num_of_rental_May' / 'tot_numb_copies'\n",
    "\n",
    "\n",
    "###### Case of the Logistic regression\n",
    "\n",
    "#Excluding all of these three columns results in logistic regression to predict almost every movie to be rented.\n",
    "#That's not really better than marking everything as 'rented' even without building a classification model (r2: 0.69).\n",
    "\n",
    "#In complete contrast, including these columns in the logistic regression results in \"perfect\" prediction, \n",
    "                                                                                # which is suspicious (r2: 1.0).\n",
    "\n",
    "\n",
    "####### Case of the KNN classification: \n",
    "\n",
    "#Even when excluding all of these three columns, the model is able to mark some portion of the movies as 'not rented'.\n",
    "#I take that as a plus in comparison to the logistic regression, which predicted all movies as \"rented\" under same\n",
    "#conditions\n",
    "\n",
    "#KNN r2 score is always less than that of Logistic regression.\n",
    "\n",
    "\n",
    "\n",
    "############################################## RESULT ##################################################################\n",
    "\n",
    "#I would pick the KNN model to continue with predicting any future data. The logistic regression model\n",
    "# resulted in either too insufficient or too perfect. If I knew that I could rely on the perfect predictions by\n",
    "# the logistic regression, then I would choose it over KNN.\n",
    "    "
   ]
  }
 ],
 "metadata": {
  "kernelspec": {
   "display_name": "Python 3 (ipykernel)",
   "language": "python",
   "name": "python3"
  },
  "language_info": {
   "codemirror_mode": {
    "name": "ipython",
    "version": 3
   },
   "file_extension": ".py",
   "mimetype": "text/x-python",
   "name": "python",
   "nbconvert_exporter": "python",
   "pygments_lexer": "ipython3",
   "version": "3.9.12"
  },
  "toc": {
   "base_numbering": 1,
   "nav_menu": {},
   "number_sections": true,
   "sideBar": true,
   "skip_h1_title": false,
   "title_cell": "Table of Contents",
   "title_sidebar": "Contents",
   "toc_cell": false,
   "toc_position": {},
   "toc_section_display": true,
   "toc_window_display": false
  }
 },
 "nbformat": 4,
 "nbformat_minor": 5
}
